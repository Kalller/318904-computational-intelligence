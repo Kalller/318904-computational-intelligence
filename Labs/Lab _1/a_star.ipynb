{
 "cells": [
  {
   "cell_type": "markdown",
   "metadata": {},
   "source": [
    "**Authors**:\n",
    "\n",
    "[`Giovanni Squillero`](https://github.com/squillero/computational-intelligence) `<giovanni.squillero@polito.it>`\n",
    "\n",
    "[`Marcello Vitaggio`](https://github.com/Kalller/computational-intelligence) `<s318904@studenti.polito.it>`  \n",
    "\n",
    "Free for personal or classroom use; see [`LICENSE.md`](https://github.com/Kalller/computational-intelligence/blob/main/LICENSE.md) for details.  \n",
    "\n",
    "In the following code, the solution of Lab 1 is proposed from the code developed in class by Professor Squillero. The skeleton of the code is nearly identical except for the addition of the new heuristic function required by the lab."
   ]
  },
  {
   "cell_type": "code",
   "execution_count": 87,
   "metadata": {},
   "outputs": [],
   "source": [
    "from random import random\n",
    "from math import ceil\n",
    "from functools import reduce\n",
    "from collections import namedtuple, deque\n",
    "from queue import PriorityQueue\n",
    "\n",
    "import numpy as np"
   ]
  },
  {
   "cell_type": "code",
   "execution_count": 88,
   "metadata": {},
   "outputs": [],
   "source": [
    "State = namedtuple('State', ['taken', 'not_taken'])\n",
    "\n",
    "def covered(state):\n",
    "    return reduce(\n",
    "        np.logical_or,\n",
    "        [SETS[i] for i in state.taken],\n",
    "        np.array([False for _ in range(PROBLEM_SIZE)]),\n",
    "    )\n",
    "\n",
    "def goal_check(state):\n",
    "    return np.all(covered(state))"
   ]
  },
  {
   "cell_type": "code",
   "execution_count": 89,
   "metadata": {},
   "outputs": [],
   "source": [
    "PROBLEM_SIZE = 20\n",
    "NUM_SETS = 40\n",
    "SETS = tuple(np.array([random() < 0.2 for _ in range(PROBLEM_SIZE)]) for _ in range(NUM_SETS))\n",
    "assert goal_check(State(set(range(NUM_SETS)), set())), \"Problem not solvable\"\n"
   ]
  },
  {
   "cell_type": "markdown",
   "metadata": {},
   "source": [
    "##### Heuristic Function proposed solution \n",
    "\n",
    "The initial step of the function involves checking if all the elements have already been covered. In the event that they have, the function returns a value of 0, indicating that no further action is needed.\n",
    "\n",
    "For each set that has not yet been included, the function proceeds to calculate the efficiency of each set in terms of covering the remaining elements. This efficiency is determined by comparing the number of elements in the set that remain uncovered to the total number of elements in the set. In cases where the set has no elements, the efficiency is set to 0 in order to prevent any potential division errors.\n",
    "\n",
    "Once the efficiencies have been calculated, the function arranges the sets in descending order based on their efficiencies. This ordering ensures that the function prioritizes the selection of sets that have the ability to cover the greatest number of remaining elements.\n",
    "\n",
    "Next, the function begins selecting sets from the sorted list until all elements have been covered. Throughout this process, the function keeps track of the total number of sets that have been selected.\n",
    "\n",
    "Ultimately, the function provides an estimation of the number of sets that are required to achieve the desired goal state from the current state."
   ]
  },
  {
   "cell_type": "code",
   "execution_count": 90,
   "metadata": {},
   "outputs": [],
   "source": [
    "def h(state):\n",
    "    already_covered = covered(state)\n",
    "    if np.all(already_covered):\n",
    "        return 0\n",
    "    \n",
    "    remaining_elements = np.logical_not(already_covered)\n",
    "    uncovered_sets = [i for i in range(NUM_SETS) if i not in state.taken]\n",
    "    \n",
    "    efficiencies = []\n",
    "    for i in uncovered_sets:\n",
    "        set_sum = sum(SETS[i])\n",
    "        if set_sum != 0:\n",
    "            efficiency = sum(np.logical_and(SETS[i], remaining_elements))/set_sum\n",
    "            \n",
    "        else:\n",
    "            efficiency = 0  \n",
    "        efficiencies.append(efficiency)\n",
    "    \n",
    "    sorted_sets = [x for _, x in sorted(zip(efficiencies, uncovered_sets), reverse=True)]\n",
    "    \n",
    "    taken = 0\n",
    "    elements_covered = np.copy(already_covered)\n",
    "    while not np.all(elements_covered):\n",
    "        elements_covered = np.logical_or(elements_covered, SETS[sorted_sets[taken]])\n",
    "        taken += 1\n",
    "    \n",
    "    return taken\n",
    "\n",
    "def f(state):\n",
    "    return len(state.taken) + h(state)"
   ]
  },
  {
   "cell_type": "code",
   "execution_count": 91,
   "metadata": {},
   "outputs": [
    {
     "name": "stdout",
     "output_type": "stream",
     "text": [
      "Solved in 7 steps (5 tiles)\n"
     ]
    }
   ],
   "source": [
    "frontier = PriorityQueue()\n",
    "state = State(set(), set(range(NUM_SETS)))\n",
    "frontier.put((f(state), state))\n",
    "\n",
    "counter = 0\n",
    "_, current_state = frontier.get()\n",
    "\n",
    "while not goal_check(current_state):\n",
    "    counter += 1\n",
    "    for action in current_state[1]:\n",
    "        new_state = State(\n",
    "            current_state.taken ^ {action},\n",
    "            current_state.not_taken ^ {action},\n",
    "        )\n",
    "        frontier.put((f(new_state), new_state))\n",
    "    _, current_state = frontier.get()\n",
    "\n",
    "print(f\"Solved in {counter:,} steps ({len(current_state.taken)} tiles)\")"
   ]
  }
 ],
 "metadata": {
  "kernelspec": {
   "display_name": "venv",
   "language": "python",
   "name": "python3"
  },
  "language_info": {
   "codemirror_mode": {
    "name": "ipython",
    "version": 3
   },
   "file_extension": ".py",
   "mimetype": "text/x-python",
   "name": "python",
   "nbconvert_exporter": "python",
   "pygments_lexer": "ipython3",
   "version": "3.12.0"
  }
 },
 "nbformat": 4,
 "nbformat_minor": 2
}
