{
 "cells": [
  {
   "cell_type": "markdown",
   "metadata": {},
   "source": [
    "**Authors**:  \n",
    "[`Marcello Vitaggio`](https://github.com/Kalller/computational-intelligence) `<s318904@studenti.polito.it>`  \n",
    "[`Giovanni Squillero`](https://github.com/squillero/computational-intelligence) `<giovanni.squillero@polito.it>`  \n",
    "Free for personal or classroom use; see [`LICENSE.md`](https://github.com/Kalller/computational-intelligence/blob/main/LICENSE.md) for details.  "
   ]
  },
  {
   "cell_type": "code",
   "execution_count": 2,
   "metadata": {},
   "outputs": [
    {
     "name": "stderr",
     "output_type": "stream",
     "text": [
      "C:\\Users\\marce\\AppData\\Local\\Packages\\PythonSoftwareFoundation.Python.3.11_qbz5n2kfra8p0\\LocalCache\\local-packages\\Python311\\site-packages\\tqdm\\auto.py:21: TqdmWarning: IProgress not found. Please update jupyter and ipywidgets. See https://ipywidgets.readthedocs.io/en/stable/user_install.html\n",
      "  from .autonotebook import tqdm as notebook_tqdm\n"
     ]
    }
   ],
   "source": [
    "from itertools import combinations\n",
    "from collections import namedtuple, defaultdict\n",
    "from random import choice\n",
    "from copy import deepcopy\n",
    "\n",
    "from tqdm.auto import tqdm\n",
    "import numpy as np"
   ]
  },
  {
   "cell_type": "markdown",
   "metadata": {},
   "source": [
    "# LAB10 (LAB4)\n",
    "\n",
    "Use reinforcement learning to devise a tic-tac-toe player.\n",
    "\n",
    "### Deadlines:\n",
    "\n",
    "* Submission: [Dies Natalis Solis Invicti](https://en.wikipedia.org/wiki/Sol_Invictus)\n",
    "* Reviews: [Befana](https://en.wikipedia.org/wiki/Befana)"
   ]
  },
  {
   "cell_type": "code",
   "execution_count": 3,
   "metadata": {},
   "outputs": [],
   "source": [
    "State = namedtuple('State', ['x', 'o'])\n",
    "MAGIC = [2, 7, 6, 9, 5, 1, 4, 3, 8]"
   ]
  },
  {
   "cell_type": "code",
   "execution_count": 79,
   "metadata": {},
   "outputs": [],
   "source": [
    "def print_board(pos):\n",
    "    \"\"\"Nicely prints the board with emojis for X and O\"\"\"\n",
    "    for r in range(3):\n",
    "        for c in range(3):\n",
    "            i = r * 3 + c\n",
    "            if MAGIC[i] in pos.x:\n",
    "                print('❌', end='')  \n",
    "            elif MAGIC[i] in pos.o:\n",
    "                print('⭕', end='')  \n",
    "            else:\n",
    "                print('⬜', end='')  \n",
    "        print()\n",
    "    print()\n",
    "\n",
    "def win(elements):\n",
    "    \"\"\"Checks if elements is winning\"\"\"\n",
    "    return any(sum(c) == 15 for c in combinations(elements, 3))\n",
    "\n",
    "def state_value(pos: State, p):\n",
    "    \n",
    "    if p == 'X':\n",
    "        if win(pos.x):\n",
    "            return 1\n",
    "        elif win(pos.o):\n",
    "            return -1\n",
    "    elif p == 'O':\n",
    "        if win(pos.x):\n",
    "            return -1\n",
    "        elif win(pos.o):\n",
    "            return 1\n",
    "    return 0"
   ]
  },
  {
   "cell_type": "code",
   "execution_count": 5,
   "metadata": {},
   "outputs": [],
   "source": [
    "def random_game():\n",
    "    trajectory = list()\n",
    "    state = State(set(), set())\n",
    "    available = set(range(1, 9+1))\n",
    "    while available:\n",
    "        x = choice(list(available))\n",
    "        state.x.add(x)\n",
    "        trajectory.append(deepcopy(state))\n",
    "        available.remove(x)\n",
    "        if win(state.x) or not available:\n",
    "            break\n",
    "\n",
    "        o = choice(list(available))\n",
    "        state.o.add(o)\n",
    "        trajectory.append(deepcopy(state))\n",
    "        available.remove(o)\n",
    "        if win(state.o):\n",
    "            break\n",
    "    return trajectory"
   ]
  },
  {
   "cell_type": "code",
   "execution_count": 155,
   "metadata": {},
   "outputs": [],
   "source": [
    "def play_multiple_games(agent1, agent2, num_games):\n",
    "    wins_agent1 = 0\n",
    "    wins_agent2 = 0\n",
    "\n",
    "    for _ in tqdm(range(num_games)):\n",
    "        state = State(set(), set())\n",
    "        player = 'X'  \n",
    "        while True:\n",
    "            if player == 'X':\n",
    "                state = agent1(state, player)\n",
    "            else:\n",
    "                state = agent2(state, player)\n",
    "\n",
    "            if win(state.x):\n",
    "                wins_agent1 += 1\n",
    "                break\n",
    "            elif win(state.o):\n",
    "                wins_agent2 += 1\n",
    "                break\n",
    "            elif len(state.x) + len(state.o) == 9:\n",
    "                break\n",
    "\n",
    "            player = 'O' if player == 'X' else 'X'\n",
    "    \n",
    "    total_games = wins_agent1 + wins_agent2\n",
    "    win_percentage_agent1 = (wins_agent1 / total_games) * 100\n",
    "    win_percentage_agent2 = (wins_agent2 / total_games) * 100\n",
    "\n",
    "    print(f\"Agent 1 win percentage: {win_percentage_agent1:.2f}%\")\n",
    "    print(f\"Agent 2 win percentage: {win_percentage_agent2:.2f}%\")\n"
   ]
  },
  {
   "cell_type": "code",
   "execution_count": 7,
   "metadata": {},
   "outputs": [],
   "source": [
    "def play_game(agent1, agent2):\n",
    "    state = State(set(), set())\n",
    "    player = 'X'\n",
    "    print_board(state)\n",
    "    while True:\n",
    "        if player == 'X':\n",
    "            state = agent1(state, player)\n",
    "        else:\n",
    "            state = agent2(state, player)\n",
    "        print_board(state)\n",
    "        if win(state.x):\n",
    "            print(\"X wins!\")\n",
    "            break\n",
    "        elif win(state.o):\n",
    "            print(\"O wins!\")\n",
    "            break\n",
    "        elif len(state.x) + len(state.o) == 9:\n",
    "            print(\"It's a draw!\")\n",
    "            break\n",
    "        player = 'O' if player == 'X' else 'X'"
   ]
  },
  {
   "cell_type": "code",
   "execution_count": 8,
   "metadata": {},
   "outputs": [],
   "source": [
    "def random_agent(state, player):\n",
    "    # listing the current available moves\n",
    "    available_moves = [i for i in MAGIC if i not in state.x and i not in state.o]\n",
    "\n",
    "    # picking one randomly\n",
    "    move = choice(available_moves)\n",
    "    if player == 'X':\n",
    "        state.x.add(move)\n",
    "    else:\n",
    "        state.o.add(move)\n",
    "    return state"
   ]
  },
  {
   "cell_type": "code",
   "execution_count": 150,
   "metadata": {},
   "outputs": [
    {
     "name": "stderr",
     "output_type": "stream",
     "text": [
      "100%|██████████| 500000/500000 [00:49<00:00, 10170.94it/s]\n",
      "100%|██████████| 500000/500000 [00:49<00:00, 10163.99it/s]\n"
     ]
    }
   ],
   "source": [
    "value_dictionaries = {'X': defaultdict(float), 'O': defaultdict(float)}\n",
    "epsilon = 0.001\n",
    "eps = 500_000\n",
    "\n",
    "for player in ['X', 'O']:\n",
    "    for steps in tqdm(range(eps)):\n",
    "        trajectory = random_game()\n",
    "        final_reward = state_value(trajectory[-1], player)\n",
    "        for state in trajectory:\n",
    "            hashable_state = (frozenset(state.x), frozenset(state.o))\n",
    "            value_dictionaries[player][hashable_state] += epsilon * (final_reward - value_dictionaries[player][hashable_state])\n"
   ]
  },
  {
   "cell_type": "code",
   "execution_count": 158,
   "metadata": {},
   "outputs": [],
   "source": [
    "def rl_agent(state, player):\n",
    "    available_moves = [i for i in MAGIC if i not in state.x and i not in state.o]\n",
    "    best_value = float(\"-inf\")\n",
    "    best_move = None\n",
    "\n",
    "    player_dict = value_dictionaries[player]  # Access the specific player's dictionary\n",
    "\n",
    "    for move in available_moves:\n",
    "        next_state = State(set(state.x), set(state.o))\n",
    "        if player == 'X':\n",
    "            next_state.x.add(move)\n",
    "        else:\n",
    "            next_state.o.add(move)\n",
    "\n",
    "        hashable_state = (frozenset(next_state.x), frozenset(next_state.o))\n",
    "        state_value = player_dict.get(hashable_state, 0)  # Retrieve value from the player's dictionary\n",
    "\n",
    "        if state_value > best_value:\n",
    "            best_value = state_value\n",
    "            best_move = move\n",
    "        \n",
    "    if player == 'X':\n",
    "        state.x.add(best_move)\n",
    "    else:\n",
    "        state.o.add(best_move)\n",
    "\n",
    "    return state\n"
   ]
  },
  {
   "cell_type": "code",
   "execution_count": 160,
   "metadata": {},
   "outputs": [
    {
     "name": "stderr",
     "output_type": "stream",
     "text": [
      "100%|██████████| 10000/10000 [00:00<00:00, 36316.24it/s]\n"
     ]
    },
    {
     "name": "stdout",
     "output_type": "stream",
     "text": [
      "Agent 1 win percentage: 4.02%\n",
      "Agent 2 win percentage: 95.98%\n"
     ]
    },
    {
     "name": "stderr",
     "output_type": "stream",
     "text": [
      "100%|██████████| 10000/10000 [00:00<00:00, 39177.21it/s]"
     ]
    },
    {
     "name": "stdout",
     "output_type": "stream",
     "text": [
      "Agent 1 win percentage: 100.00%\n",
      "Agent 2 win percentage: 0.00%\n"
     ]
    },
    {
     "name": "stderr",
     "output_type": "stream",
     "text": [
      "\n"
     ]
    }
   ],
   "source": [
    "play_multiple_games(random_agent,rl_agent,10000)\n",
    "play_multiple_games(rl_agent,random_agent,10000)"
   ]
  },
  {
   "cell_type": "code",
   "execution_count": 154,
   "metadata": {},
   "outputs": [
    {
     "name": "stdout",
     "output_type": "stream",
     "text": [
      "⬜⬜⬜\n",
      "⬜⬜⬜\n",
      "⬜⬜⬜\n",
      "\n",
      "⬜⬜❌\n",
      "⬜⬜⬜\n",
      "⬜⬜⬜\n",
      "\n",
      "⬜⬜❌\n",
      "⬜⭕⬜\n",
      "⬜⬜⬜\n",
      "\n",
      "⬜⬜❌\n",
      "⬜⭕❌\n",
      "⬜⬜⬜\n",
      "\n",
      "⬜⬜❌\n",
      "⬜⭕❌\n",
      "⬜⬜⭕\n",
      "\n",
      "❌⬜❌\n",
      "⬜⭕❌\n",
      "⬜⬜⭕\n",
      "\n",
      "❌⭕❌\n",
      "⬜⭕❌\n",
      "⬜⬜⭕\n",
      "\n",
      "❌⭕❌\n",
      "⬜⭕❌\n",
      "❌⬜⭕\n",
      "\n",
      "❌⭕❌\n",
      "⬜⭕❌\n",
      "❌⭕⭕\n",
      "\n",
      "O wins!\n"
     ]
    }
   ],
   "source": [
    "play_game(random_agent,rl_agent)"
   ]
  }
 ],
 "metadata": {
  "kernelspec": {
   "display_name": "Python 3",
   "language": "python",
   "name": "python3"
  },
  "language_info": {
   "codemirror_mode": {
    "name": "ipython",
    "version": 3
   },
   "file_extension": ".py",
   "mimetype": "text/x-python",
   "name": "python",
   "nbconvert_exporter": "python",
   "pygments_lexer": "ipython3",
   "version": "3.11.7"
  }
 },
 "nbformat": 4,
 "nbformat_minor": 2
}
